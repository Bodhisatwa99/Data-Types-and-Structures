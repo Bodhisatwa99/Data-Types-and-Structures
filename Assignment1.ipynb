{
 "cells": [
  {
   "cell_type": "code",
   "execution_count": 52,
   "id": "da4697db-7d92-47fc-99b3-7e370e15838f",
   "metadata": {},
   "outputs": [
    {
     "name": "stdout",
     "output_type": "stream",
     "text": [
      "Bodhisatwa\n"
     ]
    }
   ],
   "source": [
    "#1\n",
    "name = \"Bodhisatwa\"\n",
    "print(name)"
   ]
  },
  {
   "cell_type": "code",
   "execution_count": 53,
   "id": "a47a5d29-c3a2-4c84-b864-5e7e2c3c4469",
   "metadata": {},
   "outputs": [
    {
     "name": "stdout",
     "output_type": "stream",
     "text": [
      "Length of the string: 11\n"
     ]
    }
   ],
   "source": [
    "#2\n",
    "str = \"Hello World\"\n",
    "length = len(str)\n",
    "print(\"Length of the string:\", length)"
   ]
  },
  {
   "cell_type": "code",
   "execution_count": 54,
   "id": "25a862d5-612a-468d-8328-88b5814ddf5c",
   "metadata": {},
   "outputs": [
    {
     "name": "stdout",
     "output_type": "stream",
     "text": [
      "Sliced string: Pyt\n"
     ]
    }
   ],
   "source": [
    "#3\n",
    "str1 = \"Python Programming\"\n",
    "sliced_string = str1[:3]\n",
    "print(\"Sliced string:\", sliced_string)"
   ]
  },
  {
   "cell_type": "code",
   "execution_count": 55,
   "id": "78c43ed6-611a-49ce-8fb2-a97850828567",
   "metadata": {},
   "outputs": [
    {
     "name": "stdout",
     "output_type": "stream",
     "text": [
      "Uppercase string: HELLO\n"
     ]
    }
   ],
   "source": [
    "#4\n",
    "str2 = \"hello\"\n",
    "uppercase_string = str2.upper()\n",
    "print(\"Uppercase string:\", uppercase_string)"
   ]
  },
  {
   "cell_type": "code",
   "execution_count": 56,
   "id": "8ea1fa84-9d5c-4170-89eb-e4004fc3da98",
   "metadata": {},
   "outputs": [
    {
     "name": "stdout",
     "output_type": "stream",
     "text": [
      "Updated string: I like orange\n"
     ]
    }
   ],
   "source": [
    "#5\n",
    "str3 = \"I like apple\"\n",
    "new_string = str3.replace(\"apple\", \"orange\")\n",
    "print(\"Updated string:\", new_string)"
   ]
  },
  {
   "cell_type": "code",
   "execution_count": 57,
   "id": "fe69d9fb-0c55-4dac-9a7b-48453753d229",
   "metadata": {},
   "outputs": [
    {
     "name": "stdout",
     "output_type": "stream",
     "text": [
      "List of numbers: [1, 2, 3, 4, 5]\n"
     ]
    }
   ],
   "source": [
    "#6\n",
    "numbers = list(range(1, 6))\n",
    "print(\"List of numbers:\", numbers)"
   ]
  },
  {
   "cell_type": "code",
   "execution_count": 58,
   "id": "73220f32-eab2-4a43-b323-74c421b6ce0a",
   "metadata": {},
   "outputs": [
    {
     "name": "stdout",
     "output_type": "stream",
     "text": [
      "Updated list: [1, 2, 3, 4, 10]\n"
     ]
    }
   ],
   "source": [
    "#7\n",
    "numbers1 = [1, 2, 3, 4]\n",
    "numbers1.append(10)\n",
    "print(\"Updated list:\", numbers1)"
   ]
  },
  {
   "cell_type": "code",
   "execution_count": 59,
   "id": "a4f6590f-3d0c-4308-92af-7873e8e05e13",
   "metadata": {},
   "outputs": [
    {
     "name": "stdout",
     "output_type": "stream",
     "text": [
      "Updated list: [1, 2, 4, 5]\n"
     ]
    }
   ],
   "source": [
    "#8\n",
    "numbers2 = [1, 2, 3, 4, 5]\n",
    "numbers2.remove(3)\n",
    "print(\"Updated list:\", numbers2)"
   ]
  },
  {
   "cell_type": "code",
   "execution_count": 60,
   "id": "566b7147-57b9-45e3-885d-9ed06c5258a7",
   "metadata": {},
   "outputs": [
    {
     "name": "stdout",
     "output_type": "stream",
     "text": [
      "Second element: b\n"
     ]
    }
   ],
   "source": [
    "#9\n",
    "letters = ['a', 'b', 'c', 'd']\n",
    "second_element = letters[1] \n",
    "print(\"Second element:\", second_element)"
   ]
  },
  {
   "cell_type": "code",
   "execution_count": 61,
   "id": "f99c6725-c3ab-4dc7-b6ac-8c501229e17e",
   "metadata": {},
   "outputs": [
    {
     "name": "stdout",
     "output_type": "stream",
     "text": [
      "Reversed list: [50, 40, 30, 20, 10]\n"
     ]
    }
   ],
   "source": [
    "#10\n",
    "numbers3 = [10, 20, 30, 40, 50]\n",
    "numbers3.reverse()\n",
    "print(\"Reversed list:\", numbers3)\n"
   ]
  },
  {
   "cell_type": "code",
   "execution_count": 62,
   "id": "42c606f8-56af-4914-b8c2-993e8d02783d",
   "metadata": {},
   "outputs": [
    {
     "name": "stdout",
     "output_type": "stream",
     "text": [
      "Tuple: (100, 200, 300)\n"
     ]
    }
   ],
   "source": [
    "#11\n",
    "my_tuple = (100, 200, 300)\n",
    "print(\"Tuple:\", my_tuple)"
   ]
  },
  {
   "cell_type": "code",
   "execution_count": 63,
   "id": "683a4a22-fd9e-4688-adba-4ea191d9245f",
   "metadata": {},
   "outputs": [
    {
     "name": "stdout",
     "output_type": "stream",
     "text": [
      "Second-to-last element: blue\n"
     ]
    }
   ],
   "source": [
    "#12\n",
    "colors = ('red', 'green', 'blue', 'yellow')\n",
    "second_to_last = colors[-2] \n",
    "print(\"Second-to-last element:\", second_to_last)"
   ]
  },
  {
   "cell_type": "code",
   "execution_count": 64,
   "id": "aa087fe5-2a36-4a75-8400-4aa19909c23e",
   "metadata": {},
   "outputs": [
    {
     "name": "stdout",
     "output_type": "stream",
     "text": [
      "Minimum number: 5\n"
     ]
    }
   ],
   "source": [
    "#13\n",
    "numbers4 = (10, 20, 5, 15)\n",
    "min_number = min(numbers4)\n",
    "print(\"Minimum number:\", min_number)"
   ]
  },
  {
   "cell_type": "code",
   "execution_count": 65,
   "id": "b4396991-3b96-4e1b-a5aa-21974937a4cb",
   "metadata": {},
   "outputs": [
    {
     "name": "stdout",
     "output_type": "stream",
     "text": [
      "Index of 'cat': 1\n"
     ]
    }
   ],
   "source": [
    "#14\n",
    "animals = ('dog', 'cat', 'rabbit')\n",
    "index_of_cat = animals.index('cat')\n",
    "print(\"Index of 'cat':\", index_of_cat)"
   ]
  },
  {
   "cell_type": "code",
   "execution_count": 66,
   "id": "c3129783-0f47-481f-9569-eb5a595fd6f6",
   "metadata": {},
   "outputs": [
    {
     "name": "stdout",
     "output_type": "stream",
     "text": [
      "Kiwi is not in the tuple.\n"
     ]
    }
   ],
   "source": [
    "#15\n",
    "fruits = (\"apple\", \"banana\", \"orange\")\n",
    "if \"kiwi\" in fruits:\n",
    "    print(\"Kiwi is in the tuple.\")\n",
    "else:\n",
    "    print(\"Kiwi is not in the tuple.\")"
   ]
  },
  {
   "cell_type": "code",
   "execution_count": 67,
   "id": "1742a4e5-dff9-4529-bbad-bb06dbb1aaa1",
   "metadata": {},
   "outputs": [
    {
     "name": "stdout",
     "output_type": "stream",
     "text": [
      "Set: {'b', 'a', 'c'}\n"
     ]
    }
   ],
   "source": [
    "#16\n",
    "set = {'a', 'b', 'c'}\n",
    "print(\"Set:\", set)"
   ]
  },
  {
   "cell_type": "code",
   "execution_count": 68,
   "id": "d4fdbb60-9d84-4ba9-9270-927a6aa1d818",
   "metadata": {},
   "outputs": [
    {
     "name": "stdout",
     "output_type": "stream",
     "text": [
      "Cleared set: set()\n"
     ]
    }
   ],
   "source": [
    "#17\n",
    "set1 = {1, 2, 3, 4, 5}\n",
    "set1.clear()  \n",
    "print(\"Cleared set:\", set1)"
   ]
  },
  {
   "cell_type": "code",
   "execution_count": 69,
   "id": "243a3b86-f7da-41c4-a924-c19ae0d35b14",
   "metadata": {},
   "outputs": [
    {
     "name": "stdout",
     "output_type": "stream",
     "text": [
      "Updated set: {1, 2, 3}\n"
     ]
    }
   ],
   "source": [
    "#18\n",
    "set2 = {1, 2, 3, 4}\n",
    "set2.remove(4)  \n",
    "print(\"Updated set:\", set2)"
   ]
  },
  {
   "cell_type": "code",
   "execution_count": 70,
   "id": "80ca8b41-3a1f-42e8-ab83-ad6956263749",
   "metadata": {},
   "outputs": [
    {
     "name": "stdout",
     "output_type": "stream",
     "text": [
      "Union of sets: {1, 2, 3, 4, 5}\n"
     ]
    }
   ],
   "source": [
    "#19\n",
    "set_1 = {1, 2, 3}\n",
    "set_2 = {3, 4, 5}\n",
    "union_set = set_1.union(set_2)  \n",
    "print(\"Union of sets:\", union_set)"
   ]
  },
  {
   "cell_type": "code",
   "execution_count": 71,
   "id": "01d3cb3f-6b76-48e2-9a24-b5e81b6dd5a7",
   "metadata": {},
   "outputs": [
    {
     "name": "stdout",
     "output_type": "stream",
     "text": [
      "Intersection of sets: {2, 3}\n"
     ]
    }
   ],
   "source": [
    "#20\n",
    "set_3 = {1, 2, 3}\n",
    "set_4 = {2, 3, 4}\n",
    "intersection_set = set_3.intersection(set_4) \n",
    "print(\"Intersection of sets:\", intersection_set)\n"
   ]
  },
  {
   "cell_type": "code",
   "execution_count": 72,
   "id": "67c3de57-47d3-42ea-80c1-19da881072b2",
   "metadata": {},
   "outputs": [
    {
     "name": "stdout",
     "output_type": "stream",
     "text": [
      "Dictionary: {'name': 'Bodhisatwa', 'age': 25, 'city': 'Bhubaneswar'}\n"
     ]
    }
   ],
   "source": [
    "#21\n",
    "person = {\n",
    "    \"name\": \"Bodhisatwa\",\n",
    "    \"age\": 25,\n",
    "    \"city\": \"Bhubaneswar\"\n",
    "}\n",
    "\n",
    "print(\"Dictionary:\", person)\n"
   ]
  },
  {
   "cell_type": "code",
   "execution_count": 73,
   "id": "75911d3a-b8d9-4ec3-ac76-4bc8cc7f850f",
   "metadata": {},
   "outputs": [
    {
     "name": "stdout",
     "output_type": "stream",
     "text": [
      "Updated dictionary: {'name': 'John', 'age': 25, 'country': 'USA'}\n"
     ]
    }
   ],
   "source": [
    "#22\n",
    "person1 = {'name': 'John', 'age': 25}\n",
    "person1['country'] = 'USA' \n",
    "print(\"Updated dictionary:\", person1)"
   ]
  },
  {
   "cell_type": "code",
   "execution_count": 74,
   "id": "2fe2331e-d3c8-4419-be2e-530d8181f32e",
   "metadata": {},
   "outputs": [
    {
     "name": "stdout",
     "output_type": "stream",
     "text": [
      "Name: Alice\n"
     ]
    }
   ],
   "source": [
    "#23\n",
    "person2 = {'name': 'Alice', 'age': 30}\n",
    "name_value = person2.get('name')\n",
    "print(\"Name:\", name_value)"
   ]
  },
  {
   "cell_type": "code",
   "execution_count": 75,
   "id": "f6cad2af-0334-4fbc-882a-7543c68a3015",
   "metadata": {},
   "outputs": [
    {
     "name": "stdout",
     "output_type": "stream",
     "text": [
      "Updated dictionary: {'name': 'Bob', 'city': 'New York'}\n"
     ]
    }
   ],
   "source": [
    "#24\n",
    "person3 = {'name': 'Bob', 'age': 22, 'city': 'New York'}\n",
    "del person3['age'] \n",
    "print(\"Updated dictionary:\", person3)"
   ]
  },
  {
   "cell_type": "code",
   "execution_count": 76,
   "id": "91f676b2-8400-4fe7-96f8-228d4b05fb9c",
   "metadata": {},
   "outputs": [
    {
     "name": "stdout",
     "output_type": "stream",
     "text": [
      "Key 'city' exists in the dictionary.\n"
     ]
    }
   ],
   "source": [
    "#25\n",
    "person4 = {'name': 'Alice', 'city': 'Paris'}\n",
    "\n",
    "if \"city\" in person4:\n",
    "    print(\"Key 'city' exists in the dictionary.\")\n",
    "else:\n",
    "    print(\"Key 'city' does not exist in the dictionary.\")\n"
   ]
  },
  {
   "cell_type": "code",
   "execution_count": 77,
   "id": "833232e2-604b-42e3-b0d8-d13ef015ed4f",
   "metadata": {},
   "outputs": [
    {
     "name": "stdout",
     "output_type": "stream",
     "text": [
      "List: [1, 2, 3, 4, 5]\n",
      "Tuple: ('a', 'b', 'c')\n",
      "Dictionary: {'name': 'Alice', 'age': 25, 'city': 'Paris'}\n"
     ]
    }
   ],
   "source": [
    "#26\n",
    "# Creating a list\n",
    "my_list = [1, 2, 3, 4, 5]\n",
    "\n",
    "# Creating a tuple\n",
    "my_tuple = ('a', 'b', 'c')\n",
    "\n",
    "# Creating a dictionary\n",
    "my_dict = {'name': 'Alice', 'age': 25, 'city': 'Paris'}\n",
    "\n",
    "print(\"List:\", my_list)\n",
    "print(\"Tuple:\", my_tuple)\n",
    "print(\"Dictionary:\", my_dict)"
   ]
  },
  {
   "cell_type": "code",
   "execution_count": 78,
   "id": "07f3a9fe-d247-41e8-80ae-13c48b02b8a0",
   "metadata": {},
   "outputs": [
    {
     "name": "stdout",
     "output_type": "stream",
     "text": [
      "Sorted list of random numbers: [32, 34, 43, 54, 67]\n"
     ]
    }
   ],
   "source": [
    "#27\n",
    "import random\n",
    "random_numbers = random.sample(range(1, 101), 5)\n",
    "random_numbers.sort()\n",
    "print(\"Sorted list of random numbers:\", random_numbers)\n"
   ]
  },
  {
   "cell_type": "code",
   "execution_count": 79,
   "id": "2e45e78f-6269-4bab-b72e-cc270e60a457",
   "metadata": {},
   "outputs": [
    {
     "name": "stdout",
     "output_type": "stream",
     "text": [
      "Element at index 3: 4\n"
     ]
    }
   ],
   "source": [
    "#28\n",
    "my_list1 = [\"Ram\", \"Shyam\", \"Hari\", \"Raju\", \"Pinku\"]\n",
    "third_index_element = my_list[3]\n",
    "print(\"Element at index 3:\", third_index_element)\n"
   ]
  },
  {
   "cell_type": "code",
   "execution_count": 80,
   "id": "9a00baf8-3f69-45a5-8243-2f5502cf3f60",
   "metadata": {},
   "outputs": [
    {
     "name": "stdout",
     "output_type": "stream",
     "text": [
      "Combined dictionary: {'a': 1, 'b': 2, 'c': 3, 'd': 4}\n"
     ]
    }
   ],
   "source": [
    "#29\n",
    "dict_1 = {'a': 1, 'b': 2}\n",
    "dict_2 = {'c': 3, 'd': 4}\n",
    "combined_dict = dict_1.copy()\n",
    "combined_dict.update(dict_2)\n",
    "print(\"Combined dictionary:\", combined_dict)"
   ]
  },
  {
   "cell_type": "code",
   "execution_count": 83,
   "id": "ee0b5f2f-6a89-4f70-b2bf-f66f1abf7fe6",
   "metadata": {},
   "outputs": [
    {
     "name": "stdout",
     "output_type": "stream",
     "text": [
      "Set: {'banana', 'cherry', 'apple'}\n"
     ]
    }
   ],
   "source": [
    "#30\n",
    "my_list = [\"apple\", \"banana\", \"cherry\", \"apple\", \"banana\"]\n",
    "my_set = set(my_list)\n",
    "print(\"Set:\", my_set)\n",
    "\n"
   ]
  },
  {
   "cell_type": "code",
   "execution_count": null,
   "id": "14b8fb9b-3761-46d5-baea-8e918f7d20e0",
   "metadata": {},
   "outputs": [],
   "source": []
  },
  {
   "cell_type": "code",
   "execution_count": null,
   "id": "2f38ef4a-382e-41d7-afea-4cd684f651bb",
   "metadata": {},
   "outputs": [],
   "source": []
  }
 ],
 "metadata": {
  "kernelspec": {
   "display_name": "Python 3 (ipykernel)",
   "language": "python",
   "name": "python3"
  },
  "language_info": {
   "codemirror_mode": {
    "name": "ipython",
    "version": 3
   },
   "file_extension": ".py",
   "mimetype": "text/x-python",
   "name": "python",
   "nbconvert_exporter": "python",
   "pygments_lexer": "ipython3",
   "version": "3.11.0"
  }
 },
 "nbformat": 4,
 "nbformat_minor": 5
}
